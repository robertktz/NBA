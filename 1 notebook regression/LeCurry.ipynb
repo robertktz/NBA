{
 "cells": [
  {
   "attachments": {},
   "cell_type": "markdown",
   "metadata": {},
   "source": [
    "# This is my NBA 2023 Playground\n",
    "### Games & Player Stats"
   ]
  },
  {
   "cell_type": "code",
   "execution_count": 5,
   "metadata": {},
   "outputs": [],
   "source": [
    "import pandas as pd\n",
    "import numpy as np\n",
    "import matplotlib.pyplot as plt"
   ]
  },
  {
   "cell_type": "code",
   "execution_count": 6,
   "metadata": {},
   "outputs": [],
   "source": [
    "# Import the Dataset with delimiter ;\n",
    "# Didn't work at the beginning as decoding was necessary --> ChatGPT was my friend\n",
    "\n",
    "df = pd.read_csv('/Users/robertkurtz/Desktop/NBA 2023 Dataplayground/data/2022-2023 NBA Player Stats - Regular.csv', delimiter=';', encoding='ISO-8859-1')"
   ]
  },
  {
   "attachments": {},
   "cell_type": "markdown",
   "metadata": {},
   "source": [
    "### Descriptive part"
   ]
  },
  {
   "cell_type": "code",
   "execution_count": 7,
   "metadata": {},
   "outputs": [
    {
     "data": {
      "text/plain": [
       "(553, 30)"
      ]
     },
     "execution_count": 7,
     "metadata": {},
     "output_type": "execute_result"
    }
   ],
   "source": [
    "# 553 rows & 30 columns\n",
    "df.shape\n"
   ]
  },
  {
   "cell_type": "code",
   "execution_count": 9,
   "metadata": {},
   "outputs": [
    {
     "name": "stdout",
     "output_type": "stream",
     "text": [
      "   Rk                    Player Pos  Age   Tm   G  GS    MP   FG   FGA  ...  \\\n",
      "0   1          Precious Achiuwa   C   23  TOR  33   9  23.0  4.0   8.2  ...   \n",
      "1   2              Steven Adams   C   29  MEM  42  42  27.0  3.7   6.3  ...   \n",
      "2   3               Bam Adebayo   C   25  MIA  52  52  35.3  8.6  15.7  ...   \n",
      "3   4              Ochai Agbaji  SG   22  UTA  35   1  14.0  1.5   3.2  ...   \n",
      "4   5              Santi Aldama  PF   22  MEM  52  18  22.0  3.4   7.0  ...   \n",
      "5   6  Nickeil Alexander-Walker  SG   24  TOT  37   3  14.3  2.2   4.6  ...   \n",
      "6   6  Nickeil Alexander-Walker  SG   24  UTA  36   3  14.7  2.3   4.7  ...   \n",
      "\n",
      "     FT%  ORB  DRB   TRB  AST  STL  BLK  TOV   PF   PTS  \n",
      "0  0.697  2.1  4.3   6.4  1.1  0.7  0.7  1.2  2.2  10.4  \n",
      "1  0.364  5.1  6.5  11.5  2.3  0.9  1.1  1.9  2.3   8.6  \n",
      "2  0.806  2.7  7.3  10.1  3.3  1.2  0.8  2.6  2.8  21.6  \n",
      "3  0.625  0.6  1.0   1.6  0.5  0.1  0.1  0.3  1.4   4.1  \n",
      "4  0.730  1.0  3.7   4.7  1.2  0.7  0.7  0.7  1.9   9.5  \n",
      "5  0.692  0.2  1.4   1.6  2.1  0.6  0.4  1.2  1.6   6.2  \n",
      "6  0.692  0.2  1.4   1.6  2.1  0.7  0.4  1.3  1.6   6.3  \n",
      "\n",
      "[7 rows x 30 columns]\n"
     ]
    }
   ],
   "source": [
    "# Show head and first rows...\n",
    "print(df.head(7))\n"
   ]
  },
  {
   "attachments": {},
   "cell_type": "markdown",
   "metadata": {},
   "source": [
    "### Cleaning the data"
   ]
  },
  {
   "cell_type": "code",
   "execution_count": 47,
   "metadata": {},
   "outputs": [
    {
     "name": "stdout",
     "output_type": "stream",
     "text": [
      "    Rk                    Player Pos  Age   Tm   G  GS    MP   FG   FGA  ...  \\\n",
      "0    1          Precious Achiuwa   C   23  TOR  33   9  23.0  4.0   8.2  ...   \n",
      "1    2              Steven Adams   C   29  MEM  42  42  27.0  3.7   6.3  ...   \n",
      "2    3               Bam Adebayo   C   25  MIA  52  52  35.3  8.6  15.7  ...   \n",
      "3    4              Ochai Agbaji  SG   22  UTA  35   1  14.0  1.5   3.2  ...   \n",
      "4    5              Santi Aldama  PF   22  MEM  52  18  22.0  3.4   7.0  ...   \n",
      "5    6  Nickeil Alexander-Walker  SG   24  TOT  37   3  14.3  2.2   4.6  ...   \n",
      "8    7             Grayson Allen  SG   27  MIL  52  50  27.5  3.4   7.6  ...   \n",
      "9    8             Jarrett Allen   C   24  CLE  52  52  33.1  6.2   9.4  ...   \n",
      "10   9             Jose Alvarado  PG   24  NOP  56   9  21.6  3.3   8.1  ...   \n",
      "11  10             Kyle Anderson  PF   29  MIN  46  31  26.0  3.0   6.0  ...   \n",
      "\n",
      "      FT%  ORB  DRB   TRB  AST  STL  BLK  TOV   PF   PTS  \n",
      "0   0.697  2.1  4.3   6.4  1.1  0.7  0.7  1.2  2.2  10.4  \n",
      "1   0.364  5.1  6.5  11.5  2.3  0.9  1.1  1.9  2.3   8.6  \n",
      "2   0.806  2.7  7.3  10.1  3.3  1.2  0.8  2.6  2.8  21.6  \n",
      "3   0.625  0.6  1.0   1.6  0.5  0.1  0.1  0.3  1.4   4.1  \n",
      "4   0.730  1.0  3.7   4.7  1.2  0.7  0.7  0.7  1.9   9.5  \n",
      "5   0.692  0.2  1.4   1.6  2.1  0.6  0.4  1.2  1.6   6.2  \n",
      "8   0.899  0.9  2.5   3.4  2.4  0.8  0.2  1.1  1.6  10.4  \n",
      "9   0.709  3.1  6.8   9.9  1.7  0.8  1.2  1.6  2.2  14.7  \n",
      "10  0.813  0.4  1.9   2.4  3.1  1.1  0.2  1.4  2.0   9.2  \n",
      "11  0.760  0.8  4.0   4.7  4.0  1.2  0.8  1.4  2.2   8.3  \n",
      "\n",
      "[10 rows x 30 columns]\n"
     ]
    },
    {
     "data": {
      "text/plain": [
       "(505, 30)"
      ]
     },
     "execution_count": 47,
     "metadata": {},
     "output_type": "execute_result"
    }
   ],
   "source": [
    "# It seems that e.g. Alexander Walker is multiple times in the set, which is not exactly what I want to have non biased averages.\n",
    "# Therefore, I remove the duplicates by:\n",
    "\n",
    "# drop duplicate rows based on a subset of columns\n",
    "df = df.drop_duplicates(subset=['Player'])\n",
    "\n",
    "# I want that all columns are in one column so I change the view like this\n",
    "\n",
    "pd.set_option('display.max_columns', 20)\n",
    "\n",
    "print(df.head(10)) #Indeed the players are unique now\n",
    "\n",
    "df.shape # reduced from 553 to 505 rows (about 48 players were duplicates and removed...)"
   ]
  },
  {
   "cell_type": "code",
   "execution_count": 48,
   "metadata": {},
   "outputs": [
    {
     "name": "stdout",
     "output_type": "stream",
     "text": [
      "Index(['Rk', 'Player', 'Pos', 'Age', 'Tm', 'G', 'GS', 'MP', 'FG', 'FGA', 'FG%',\n",
      "       '3P', '3PA', '3P%', '2P', '2PA', '2P%', 'eFG%', 'FT', 'FTA', 'FT%',\n",
      "       'ORB', 'DRB', 'TRB', 'AST', 'STL', 'BLK', 'TOV', 'PF', 'PTS'],\n",
      "      dtype='object')\n"
     ]
    }
   ],
   "source": [
    "# With this command I get all the column names. \n",
    "# It seems that there is no option to get the full name additional to the abbreviations\n",
    "\n",
    "print(df.columns)"
   ]
  },
  {
   "cell_type": "code",
   "execution_count": 49,
   "metadata": {},
   "outputs": [
    {
     "name": "stdout",
     "output_type": "stream",
     "text": [
      "Index(['Rk', 'Player', 'Pos', 'Age', 'Tm', 'G', 'GS', 'MP', 'FGA', 'FG%',\n",
      "       '3PA', '3P%', '2P%', 'eFG%', 'FTA', 'FT%', 'ORB', 'DRB', 'TRB', 'AST',\n",
      "       'STL', 'BLK', 'TOV', 'PF', 'PTS'],\n",
      "      dtype='object')\n"
     ]
    }
   ],
   "source": [
    "# Now I want to get rid of the unimportant columns/stats\n",
    "# As I don't want to create a new df for it I use this command:\n",
    "\n",
    "df = df.drop(['FG', '3P', '2P', '2PA', 'FT'], axis=1)\n",
    "\n",
    "# To check \n",
    "print(df.columns)"
   ]
  },
  {
   "attachments": {},
   "cell_type": "markdown",
   "metadata": {},
   "source": [
    "### \"I wanna compare Steph to Lebron...\" --> Well that was foreseeable^^"
   ]
  },
  {
   "cell_type": "code",
   "execution_count": 3,
   "metadata": {},
   "outputs": [
    {
     "ename": "SyntaxError",
     "evalue": "invalid syntax (764981284.py, line 5)",
     "output_type": "error",
     "traceback": [
      "\u001b[0;36m  Input \u001b[0;32mIn [3]\u001b[0;36m\u001b[0m\n\u001b[0;31m    print(steph_lebron)\u001b[0m\n\u001b[0m    ^\u001b[0m\n\u001b[0;31mSyntaxError\u001b[0m\u001b[0;31m:\u001b[0m invalid syntax\n"
     ]
    }
   ],
   "source": [
    "# filter the rows containing \"Steph Curry\" or \"LeBron\" in the player name column\n",
    "steph_lebron = df[df['Player'].str.contains('Steph|LeBron')]\n",
    "\n",
    "# display the filtered DataFrame\n",
    "print(steph_lebron)"
   ]
  },
  {
   "attachments": {},
   "cell_type": "markdown",
   "metadata": {},
   "source": [
    "## Creating a hybrid Monster  --> \"LeCurry\""
   ]
  },
  {
   "attachments": {},
   "cell_type": "markdown",
   "metadata": {},
   "source": [
    "**First Approach: \"The plain average\"**"
   ]
  },
  {
   "cell_type": "code",
   "execution_count": 62,
   "metadata": {},
   "outputs": [],
   "source": [
    "# select the columns we want to combine\n",
    "columns_to_combine = ['Age', 'G', 'GS', 'MP', 'FGA','FG%','3PA','3P%', '2P%', 'eFG%', 'FTA' ,'FT%', 'ORB', 'DRB', 'TRB', 'AST', 'STL', 'BLK', 'TOV', 'PF', 'PTS']\n"
   ]
  },
  {
   "cell_type": "code",
   "execution_count": 63,
   "metadata": {},
   "outputs": [],
   "source": [
    "# filter the dataframe to get only Steph Curry and LeBron James rows\n",
    "filtered_df = df[df['Player'].isin(['Stephen Curry', 'LeBron James'])]"
   ]
  },
  {
   "cell_type": "code",
   "execution_count": 64,
   "metadata": {},
   "outputs": [],
   "source": [
    "# calculate the average values for the selected columns\n",
    "averages = filtered_df[columns_to_combine].mean()"
   ]
  },
  {
   "cell_type": "code",
   "execution_count": 65,
   "metadata": {},
   "outputs": [],
   "source": [
    "\n",
    "# create a new dataframe with the average values\n",
    "le_curry = pd.DataFrame(data=[averages], columns=columns_to_combine)"
   ]
  },
  {
   "cell_type": "code",
   "execution_count": 66,
   "metadata": {},
   "outputs": [
    {
     "name": "stdout",
     "output_type": "stream",
     "text": [
      "    Age     G    GS    MP   FGA     FG%  3PA    3P%     2P%    eFG%  ...  \\\n",
      "0  36.0  41.0  41.0  35.5  21.3  0.5015  9.2  0.371  0.5905  0.5875  ...   \n",
      "\n",
      "     FT%  ORB   DRB  TRB  AST  STL   BLK   TOV   PF   PTS  \n",
      "0  0.843  0.9  6.55  7.4  6.7  1.0  0.45  3.15  1.9  29.8  \n",
      "\n",
      "[1 rows x 21 columns]\n"
     ]
    }
   ],
   "source": [
    "# It worked!!! Here are the combined values\n",
    "print(le_curry)"
   ]
  },
  {
   "attachments": {},
   "cell_type": "markdown",
   "metadata": {},
   "source": [
    "### This can't be it... \n",
    "\n",
    "**Second Approach: \"Subjective Fan Evaluation\"**\n",
    "\n",
    "However, this is now the feared **Monster**? Simply combining their values...?! \n",
    "Well this is one way to display it but in reality the stats should be increasing ^^ as their combined game is yielding a better overall performance/result.\n",
    "\n",
    "Thus, here is another approach of simply multiplying the combined value with a subjective factor:"
   ]
  },
  {
   "cell_type": "code",
   "execution_count": 67,
   "metadata": {},
   "outputs": [
    {
     "name": "stdout",
     "output_type": "stream",
     "text": [
      "    Age     G    GS    MP   FGA     FG%  3PA    3P%     2P%    eFG%  ...  \\\n",
      "0  36.0  41.0  41.0  35.5  21.3  0.5015  9.2  0.371  0.5905  0.5875  ...   \n",
      "\n",
      "     FT%  ORB   DRB  TRB  AST  STL   BLK   TOV   PF   PTS  \n",
      "0  0.843  0.9  6.55  7.4  6.7  1.0  0.45  3.15  1.9  29.8  \n",
      "\n",
      "[1 rows x 21 columns]\n"
     ]
    }
   ],
   "source": [
    "#we remember the combined df with their mean values\n",
    "print(le_curry)"
   ]
  },
  {
   "cell_type": "code",
   "execution_count": 68,
   "metadata": {},
   "outputs": [
    {
     "name": "stdout",
     "output_type": "stream",
     "text": [
      "    Age      G     GS      MP     FGA       FG%   3PA      3P%       2P%  \\\n",
      "0  45.0  51.25  51.25  44.375  26.625  0.626875  11.5  0.46375  0.738125   \n",
      "\n",
      "       eFG%  ...      FT%    ORB     DRB   TRB    AST   STL     BLK     TOV  \\\n",
      "0  0.734375  ...  1.05375  1.125  8.1875  9.25  8.375  1.25  0.5625  3.9375   \n",
      "\n",
      "      PF    PTS  \n",
      "0  2.375  37.25  \n",
      "\n",
      "[1 rows x 21 columns]\n"
     ]
    }
   ],
   "source": [
    "#Let's use Pandas Multiply to easily take into account the highly subjective and easily manipulatable factor of \"LeCurry would be better by * x \"\n",
    "\n",
    "le_curry_25 = le_curry.mul(1.25)\n",
    "\n",
    "print(le_curry_25)\n"
   ]
  },
  {
   "cell_type": "code",
   "execution_count": 58,
   "metadata": {},
   "outputs": [],
   "source": [
    "# the result he is quite good but also quite old... --> Not a realistic approach ;)"
   ]
  },
  {
   "attachments": {},
   "cell_type": "markdown",
   "metadata": {},
   "source": [
    "### *DJ Khaled Voice* \"Another One!\n",
    "\n",
    "**Third Approach: \"Giving Lebron Steph's shooting abilities\"**\n",
    "\n",
    "What if there is yet another approach of how we can create the LeCurry monster? Maybe the most realistic one yet.\n",
    "\n",
    "- The approach would be to simply use Steph's shooting % and multiply them with Lebron's total attemps\n",
    "- The result would be Lebron having even more points but keeping his rebounds & assists\n",
    "\n",
    "... Now it's truly scary!"
   ]
  },
  {
   "attachments": {},
   "cell_type": "markdown",
   "metadata": {},
   "source": [
    "Let's replace le_curry's 3P%, FG% & FT% by Steph's Shooting Percentages\n"
   ]
  },
  {
   "cell_type": "code",
   "execution_count": 69,
   "metadata": {},
   "outputs": [
    {
     "name": "stdout",
     "output_type": "stream",
     "text": [
      "    Age     G    GS    MP   FGA    FG%  3PA    3P%     2P%    eFG%  ...  \\\n",
      "0  36.0  41.0  41.0  35.5  21.3  0.493  9.2  0.429  0.5905  0.5875  ...   \n",
      "\n",
      "     FT%  ORB   DRB  TRB  AST  STL   BLK   TOV   PF   PTS  \n",
      "0  0.916  0.9  6.55  7.4  6.7  1.0  0.45  3.15  1.9  29.8  \n",
      "\n",
      "[1 rows x 21 columns]\n"
     ]
    }
   ],
   "source": [
    "# create DataFrame for Stephen Curry's shooting percentages\n",
    "steph_curry = pd.DataFrame({\n",
    "    '3P%': [0.429],\n",
    "    'FG%': [0.493],\n",
    "    'FT%': [0.916] })\n",
    "\n",
    "# replace shooting percentages in le_curry with those in steph_curry\n",
    "le_curry.update(steph_curry)\n",
    "\n",
    "print(le_curry)\n",
    "# the code was generated by ChatGPT"
   ]
  },
  {
   "attachments": {},
   "cell_type": "markdown",
   "metadata": {},
   "source": [
    "Shooting % look nice on paper, but to see the actual impact of Steph's Shooting with Lebron's Body we must multiply them with le_curry's attemps.\n",
    "\n",
    "**This should lead to a new total point average...**\n",
    "\n"
   ]
  },
  {
   "cell_type": "code",
   "execution_count": 71,
   "metadata": {},
   "outputs": [
    {
     "name": "stdout",
     "output_type": "stream",
     "text": [
      "    Age     G    GS    MP   FGA    FG%  3PA    3P%     2P%    eFG%  ...  TRB  \\\n",
      "0  36.0  41.0  41.0  35.5  21.3  0.493  9.2  0.429  0.5905  0.5875  ...  7.4   \n",
      "\n",
      "   AST  STL   BLK   TOV   PF   PTS       3P       FG      FT  \n",
      "0  6.7  1.0  0.45  3.15  1.9  29.8  11.8404  21.0018  5.3586  \n",
      "\n",
      "[1 rows x 24 columns]\n"
     ]
    }
   ],
   "source": [
    "# multiply shooting percentages with their respective FGA, FTA, and 3PA\n",
    "le_curry['3P'] = (le_curry['3PA'] * le_curry['3P%']) * 3 #sucessfull 3PA yield 3 points...\n",
    "le_curry['FG'] = (le_curry['FGA'] * le_curry['FG%']) * 2 #sucessfull FGA yield 2 points...\n",
    "le_curry['FT'] = le_curry['FTA'] * le_curry['FT%']\n",
    "\n",
    "# print the modified DataFrame\n",
    "print(le_curry)"
   ]
  },
  {
   "attachments": {},
   "cell_type": "markdown",
   "metadata": {},
   "source": [
    "Now the new total point average is simply the sum of all three:"
   ]
  },
  {
   "cell_type": "code",
   "execution_count": 72,
   "metadata": {},
   "outputs": [
    {
     "name": "stdout",
     "output_type": "stream",
     "text": [
      "    Age     G    GS    MP   FGA    FG%  3PA    3P%     2P%    eFG%  ...  TRB  \\\n",
      "0  36.0  41.0  41.0  35.5  21.3  0.493  9.2  0.429  0.5905  0.5875  ...  7.4   \n",
      "\n",
      "   AST  STL   BLK   TOV   PF      PTS       3P       FG      FT  \n",
      "0  6.7  1.0  0.45  3.15  1.9  38.2008  11.8404  21.0018  5.3586  \n",
      "\n",
      "[1 rows x 24 columns]\n"
     ]
    }
   ],
   "source": [
    "# summing up the scoring points\n",
    "le_curry['PTS'] = le_curry['3P'] + le_curry['FG'] + le_curry['FT']\n",
    "\n",
    "#le_curry is born\n",
    "print(le_curry)"
   ]
  },
  {
   "attachments": {},
   "cell_type": "markdown",
   "metadata": {},
   "source": [
    "LeCurry would average 38.2 Points per Game with the 2022-2023 Stats...!"
   ]
  },
  {
   "attachments": {},
   "cell_type": "markdown",
   "metadata": {},
   "source": [
    "# Now some visuals..."
   ]
  },
  {
   "cell_type": "code",
   "execution_count": 48,
   "metadata": {},
   "outputs": [
    {
     "data": {
      "image/png": "[encoded data removed]",
      "text/plain": [
       "<Figure size 432x288 with 1 Axes>"
      ]
     },
     "metadata": {
      "needs_background": "light"
     },
     "output_type": "display_data"
    }
   ],
   "source": [
    "# Create a scatter plot of points scored and assists for all players\n",
    "\n",
    "plt.scatter(df['PTS'], df['AST'])\n",
    "plt.title('NBA Players - Points vs. Assists')\n",
    "plt.xlabel('Points Scored')\n",
    "plt.ylabel('Assists')\n",
    "plt.show()"
   ]
  },
  {
   "cell_type": "code",
   "execution_count": 61,
   "metadata": {},
   "outputs": [
    {
     "data": {
      "image/png": "[encoded data removed]",
      "text/plain": [
       "<Figure size 288x288 with 1 Axes>"
      ]
     },
     "metadata": {
      "needs_background": "light"
     },
     "output_type": "display_data"
    }
   ],
   "source": [
    "# Create a scatter plot of points scored and assists for Lebron, Steph & LeCurry\n",
    "\n",
    "# create a dataframe with only Stephen Curry and Lebron James\n",
    "df_sl = df[df['Player'].isin(['Stephen Curry', 'LeBron James'])]\n",
    "\n",
    "# create a scatter plot\n",
    "fig, ax = plt.subplots(figsize=(4, 4))\n",
    "ax.scatter(df_sl[df_sl['Player']=='Stephen Curry']['PTS'],\n",
    "           df_sl[df_sl['Player']=='Stephen Curry']['AST'],\n",
    "           s=df_sl[df_sl['Player']=='Stephen Curry']['TRB']*50,\n",
    "           alpha=0.5,\n",
    "           label='Stephen Curry')\n",
    "ax.scatter(df_sl[df_sl['Player']=='LeBron James']['PTS'],\n",
    "           df_sl[df_sl['Player']=='LeBron James']['AST'],\n",
    "           s=df_sl[df_sl['Player']=='LeBron James']['TRB']*50,\n",
    "           alpha=0.5,\n",
    "           label='LeBron James')\n",
    "\n",
    "# add axis labels and title\n",
    "ax.set_xlabel('Points')\n",
    "ax.set_ylabel('Assists')\n",
    "ax.set_title('Stephen Curry and LeBron James: Points, Assists, and Rebounds')\n",
    "\n",
    "# add legend\n",
    "# the bigger the circle marker the more rebounds they have\n",
    "ax.legend()\n",
    "\n",
    "plt.show()"
   ]
  },
  {
   "cell_type": "code",
   "execution_count": null,
   "metadata": {},
   "outputs": [],
   "source": []
  }
 ],
 "metadata": {
  "kernelspec": {
   "display_name": "Python 3",
   "language": "python",
   "name": "python3"
  },
  "language_info": {
   "codemirror_mode": {
    "name": "ipython",
    "version": 3
   },
   "file_extension": ".py",
   "mimetype": "text/x-python",
   "name": "python",
   "nbconvert_exporter": "python",
   "pygments_lexer": "ipython3",
   "version": "3.9.12"
  },
  "orig_nbformat": 4
 },
 "nbformat": 4,
 "nbformat_minor": 2
}
